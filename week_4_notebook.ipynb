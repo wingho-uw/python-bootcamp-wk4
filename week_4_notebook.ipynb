{
 "cells": [
  {
   "cell_type": "markdown",
   "id": "5e4b2dee-e754-4165-8360-523ae5630c51",
   "metadata": {},
   "source": [
    "Oceanography python bootcamp, Winter 2025\n",
    "# Week 4 notebook"
   ]
  },
  {
   "cell_type": "code",
   "execution_count": null,
   "id": "05749ada-3595-4b33-a350-7faf78bbcb78",
   "metadata": {},
   "outputs": [],
   "source": [
    "import numpy as np\n",
    "import matplotlib.pyplot as plt\n",
    "import matplotlib as mpl"
   ]
  },
  {
   "cell_type": "code",
   "execution_count": null,
   "id": "8482712e-bab4-4f95-949e-07575a4a138c",
   "metadata": {},
   "outputs": [],
   "source": [
    "import numpy.linalg as nla"
   ]
  },
  {
   "cell_type": "code",
   "execution_count": null,
   "id": "fdb05955-5b63-4f70-9c9f-37fc90a8823f",
   "metadata": {},
   "outputs": [],
   "source": [
    "import week4_magic as magic"
   ]
  },
  {
   "cell_type": "markdown",
   "id": "6f0b29a9-ea3c-4d61-9f32-6beefea822da",
   "metadata": {
    "jp-MarkdownHeadingCollapsed": true
   },
   "source": [
    "## Week 3 loose ends"
   ]
  },
  {
   "cell_type": "markdown",
   "id": "0b8b148d-cf9c-412b-82a9-0d073d3fb04a",
   "metadata": {},
   "source": [
    "### Object-oriented interface versus module-level interface"
   ]
  },
  {
   "cell_type": "markdown",
   "id": "a8b57173-54d6-424e-8278-2b3e2f423e6b",
   "metadata": {
    "jp-MarkdownHeadingCollapsed": true
   },
   "source": [
    "#### Simple example"
   ]
  },
  {
   "cell_type": "markdown",
   "id": "393ba5e7-5834-45c2-86d0-dd6fe8e8fe0c",
   "metadata": {},
   "source": [
    "For simple plots, the module-level interface is more expedient"
   ]
  },
  {
   "cell_type": "code",
   "execution_count": null,
   "id": "cb248440-7bc3-4a9b-b44f-63ab6dd84b46",
   "metadata": {},
   "outputs": [],
   "source": [
    "# set data\n",
    "\n",
    "x = np.linspace(0, 1, 100)\n",
    "y = np.sqrt(x)"
   ]
  },
  {
   "cell_type": "code",
   "execution_count": null,
   "id": "aaa61b66-d11a-4fe2-a416-ac3648c74484",
   "metadata": {},
   "outputs": [],
   "source": [
    "# simplest plot in OO interface\n",
    "\n",
    "fig = plt.figure()\n",
    "ax = fig.add_subplot()\n",
    "\n",
    "ax.plot(x, y)\n",
    "\n",
    "plt.show(fig)"
   ]
  },
  {
   "cell_type": "code",
   "execution_count": null,
   "id": "1ae59373-934f-49ea-bd3d-db044d0af0d1",
   "metadata": {},
   "outputs": [],
   "source": [
    "# simplest module-global interface plot\n",
    "plt.plot(x, y)"
   ]
  },
  {
   "cell_type": "markdown",
   "id": "418d4b3f-51cb-4bfd-9f54-166d10488421",
   "metadata": {
    "jp-MarkdownHeadingCollapsed": true
   },
   "source": [
    "#### More complicated example"
   ]
  },
  {
   "cell_type": "markdown",
   "id": "7ae10778-21e7-425b-892a-b37b4e52c89e",
   "metadata": {},
   "source": [
    "For more complicated example, the module-level interface may not expose every available tweak, and `plt.gcf()` (get current figure) and `plt.gca()` (get current axes) are needed to bridge the gap"
   ]
  },
  {
   "cell_type": "code",
   "execution_count": null,
   "id": "da756cab-18ef-4805-aaba-0097ca002733",
   "metadata": {},
   "outputs": [],
   "source": [
    "# set data\n",
    "\n",
    "x = np.linspace(0, 1, 100)\n",
    "y = np.sqrt(x)"
   ]
  },
  {
   "cell_type": "code",
   "execution_count": null,
   "id": "65659e41-3700-4827-b753-2c1b499a57c4",
   "metadata": {},
   "outputs": [],
   "source": [
    "# plot using OO interface\n",
    "\n",
    "fig = plt.figure()\n",
    "ax = fig.add_subplot()\n",
    "\n",
    "ax.set_title(\"The square root function\", loc=\"left\", fontsize=20)\n",
    "ax.set_xlabel(\"x\", fontsize=16)\n",
    "ax.set_ylabel(\"y = $\\\\sqrt{x}$\", fontsize=16)\n",
    "\n",
    "ax.set_xlim(0, 1)\n",
    "ax.set_ylim(0, 1)\n",
    "\n",
    "ax.set_xticks(0.1 * np.arange(0, 11), minor=True)\n",
    "ax.set_yticks(0.1 * np.arange(0, 11), minor=True)\n",
    "ax.tick_params(\"both\", labelsize=14)\n",
    "\n",
    "ax.set_aspect(\"equal\")\n",
    "\n",
    "ax.grid(which=\"major\", axis=\"both\")\n",
    "ax.grid(which=\"minor\", axis=\"both\", ls=\":\")\n",
    "\n",
    "ax.plot(x, y)\n",
    "\n",
    "plt.show(fig)"
   ]
  },
  {
   "cell_type": "code",
   "execution_count": null,
   "id": "51968387-a6ea-4483-a9b5-07420ae1fa5d",
   "metadata": {},
   "outputs": [],
   "source": [
    "# plot using module-level interface\n",
    "\n",
    "plt.title(\"The square root function\", loc=\"left\", fontsize=20)\n",
    "plt.xlabel(\"x\", fontsize=16)\n",
    "plt.ylabel(\"y = $\\\\sqrt{x}$\", fontsize=16)\n",
    "\n",
    "plt.xlim(0, 1)\n",
    "plt.ylim(0, 1)\n",
    "\n",
    "plt.xticks(0.1 * np.arange(0, 11), minor=True)\n",
    "plt.yticks(0.1 * np.arange(0, 11), minor=True)\n",
    "plt.tick_params(\"both\", labelsize=14)\n",
    "\n",
    "# the use of gca() means we can't quite do this strictly in module global interface\n",
    "plt.gca().set_aspect(\"equal\")\n",
    "\n",
    "plt.grid(which=\"major\", axis=\"both\")\n",
    "plt.grid(which=\"minor\", axis=\"both\", ls=\":\")\n",
    "\n",
    "plt.plot(x, y)"
   ]
  },
  {
   "cell_type": "markdown",
   "id": "7c9a44b2-8faa-4645-a6c5-def4539cf7a6",
   "metadata": {
    "jp-MarkdownHeadingCollapsed": true
   },
   "source": [
    "#### Even more complicated example"
   ]
  },
  {
   "cell_type": "markdown",
   "id": "e1b7ef56-2a07-459c-b248-c939005d2893",
   "metadata": {},
   "source": [
    "For plots that involve more than one axes object, the OO-interface can be less confusing than the module-level interface"
   ]
  },
  {
   "cell_type": "code",
   "execution_count": null,
   "id": "0b094699-3dd4-4c44-9a6f-90a59bf12d34",
   "metadata": {},
   "outputs": [],
   "source": [
    "# two different y scales on the same plot\n",
    "\n",
    "x1_data = np.linspace(0, 10, 101)\n",
    "\n",
    "y1_data = x1_data**2 * np.exp(x1_data)\n",
    "y2_data = 3 * x1_data"
   ]
  },
  {
   "cell_type": "code",
   "execution_count": null,
   "id": "a863ff86-9c39-4853-afe4-1d92d5c1f0a6",
   "metadata": {},
   "outputs": [],
   "source": [
    "fig = plt.figure()\n",
    "ax1 = fig.add_subplot()\n",
    "\n",
    "# new axes object that share the x scale\n",
    "ax2 = ax1.twinx()\n",
    "\n",
    "ax1.set_yscale(\"log\")\n",
    "ax1.set_xlabel(\"independent variable\")\n",
    "ax1.set_ylabel(\"log scale\", color=\"red\")\n",
    "ax1.tick_params(axis=\"y\", colors=\"red\")\n",
    "line1 = ax1.plot(x1_data, y1_data, c=\"red\", ls=\"-.\", label=\"$y = x^2 e^x$\")\n",
    "\n",
    "ax2.set_ylabel(\"linear scale\", color=\"blue\")\n",
    "ax2.tick_params(axis=\"y\", colors=\"blue\")\n",
    "line2 = ax2.plot(x1_data, y2_data, color=\"blue\", label=\"$y = 3x$\")\n",
    "\n",
    "ax2.annotate(\"\", xy=(3, 18), xytext=(3.6, 18),\n",
    "    arrowprops={\"arrowstyle\": \"->\", \"color\": \"red\"}\n",
    ")\n",
    "ax2.annotate(\"\", xy=(5, 12), xytext=(4.4, 12),\n",
    "    arrowprops={\"arrowstyle\": \"->\", \"color\": \"blue\"}\n",
    ")\n",
    "\n",
    "lines1, labels1 = ax1.get_legend_handles_labels()\n",
    "lines2, labels2 = ax2.get_legend_handles_labels()\n",
    "ax1.legend(lines1 + lines2, labels1 + labels2)\n",
    "\n",
    "plt.show()"
   ]
  },
  {
   "cell_type": "code",
   "execution_count": null,
   "id": "e802930c-a067-41ed-9e05-587c490564b6",
   "metadata": {},
   "outputs": [],
   "source": [
    "# Plotting on the first axes object\n",
    "plt.yscale(\"log\")\n",
    "plt.xlabel(\"independent variable\")\n",
    "plt.ylabel(\"log scale\", color=\"red\")\n",
    "plt.tick_params(axis=\"y\", colors=\"red\")\n",
    "plt.plot(x1_data, y1_data, c=\"red\", ls=\"-.\", label=\"$y = x^2 e^x$\")\n",
    "\n",
    "# save legend info of the current axes\n",
    "lines1, labels1 = plt.gca().get_legend_handles_labels()\n",
    "\n",
    "# create the second axes object\n",
    "plt.twinx()\n",
    "\n",
    "# Plotting on the second axes object\n",
    "plt.ylabel(\"linear scale\", color=\"blue\")\n",
    "plt.tick_params(axis=\"y\", colors=\"blue\")\n",
    "plt.plot(x1_data, y2_data, color=\"blue\", label=\"$y = 3x$\")\n",
    "\n",
    "plt.annotate(\"\", xy=(3, 18), xytext=(3.6, 18),\n",
    "    arrowprops={\"arrowstyle\": \"->\", \"color\": \"red\"}\n",
    ")\n",
    "plt.annotate(\"\", xy=(5, 12), xytext=(4.4, 12),\n",
    "    arrowprops={\"arrowstyle\": \"->\", \"color\": \"blue\"}\n",
    ")\n",
    "\n",
    "# save legend info of the current axes\n",
    "lines2, labels2 = plt.gca().get_legend_handles_labels()\n",
    "\n",
    "# create combined legend\n",
    "plt.legend(lines1 + lines2, labels1 + labels2)\n",
    "\n",
    "plt.show()"
   ]
  },
  {
   "cell_type": "markdown",
   "id": "e5996a88-83ef-42c0-981c-8fc6d5bf90f4",
   "metadata": {},
   "source": [
    "## Higher dimensional numpy array"
   ]
  },
  {
   "cell_type": "markdown",
   "id": "09774c12-abc7-4fe3-8f17-2914b2d50af7",
   "metadata": {
    "jp-MarkdownHeadingCollapsed": true
   },
   "source": [
    "### Creation and reshaping"
   ]
  },
  {
   "cell_type": "code",
   "execution_count": null,
   "id": "2a21b1f5-9e33-4cbd-b4d1-78048656d48b",
   "metadata": {},
   "outputs": [],
   "source": [
    "# A 2-axes numpy array\n",
    "\n",
    "A2 = np.array([[1, 3, 5], [2, 4, 6]])\n",
    "print(A2)"
   ]
  },
  {
   "cell_type": "code",
   "execution_count": null,
   "id": "4364208f-e362-4c4e-8cd4-607c105106eb",
   "metadata": {},
   "outputs": [],
   "source": [
    "# ndim, shape, size, and len()\n",
    "print(A2.ndim)\n",
    "print(A2.shape)\n",
    "print(A2.size)\n",
    "print(len(A2))"
   ]
  },
  {
   "cell_type": "code",
   "execution_count": null,
   "id": "266c0a16-a3f2-4d5f-940d-534e2616174c",
   "metadata": {},
   "outputs": [],
   "source": [
    "# A 3-axes numpy array\n",
    "A3 = np.array([\n",
    "    [[1, 2, 3, 4],\n",
    "     [5, 6, 7, 8],\n",
    "     [9, 10, 11, 12]],\n",
    "    [[-2, -1, 1, 2],\n",
    "     [-4, -2, 2, 4],\n",
    "     [-6, -3, 3, 6]]\n",
    "])\n",
    "print(A3)"
   ]
  },
  {
   "cell_type": "code",
   "execution_count": null,
   "id": "94e2bf37-b91f-4844-af46-f7c5304ab5b0",
   "metadata": {},
   "outputs": [],
   "source": [
    "# ndim, shape, size, and len()\n",
    "print(A3.ndim)\n",
    "print(A3.shape)\n",
    "print(A3.size)\n",
    "print(len(A3))"
   ]
  },
  {
   "cell_type": "code",
   "execution_count": null,
   "id": "9cbfec8f-6a0a-4faf-acbe-16ae0e46d297",
   "metadata": {},
   "outputs": [],
   "source": [
    "# flatten a higher dimensional array\n",
    "A3.flatten()"
   ]
  },
  {
   "cell_type": "code",
   "execution_count": null,
   "id": "c184be06-3e71-4398-ab22-7bd7b8445633",
   "metadata": {},
   "outputs": [],
   "source": [
    "# reshape a 1D array into 2D\n",
    "A = np.arange(1, 7)\n",
    "B = A.reshape(2, 3)\n",
    "\n",
    "print(A)\n",
    "print()\n",
    "print(B)"
   ]
  },
  {
   "cell_type": "code",
   "execution_count": null,
   "id": "008773b1-d94b-4a0e-affb-cda6f2922359",
   "metadata": {},
   "outputs": [],
   "source": [
    "# reshaped array shares memory with the original array\n",
    "np.may_share_memory(A, B)"
   ]
  },
  {
   "cell_type": "code",
   "execution_count": null,
   "id": "f01038aa-0f96-461a-905d-0806c869db2d",
   "metadata": {},
   "outputs": [],
   "source": [
    "# specifying shape when using zeros\n",
    "np.zeros((4, 3, 2))"
   ]
  },
  {
   "cell_type": "code",
   "execution_count": null,
   "id": "f50332b1-6321-465c-b4da-cb08682453e3",
   "metadata": {},
   "outputs": [],
   "source": [
    "# specifying shape when using full\n",
    "np.full((2, 3, 4), 7)"
   ]
  },
  {
   "cell_type": "code",
   "execution_count": null,
   "id": "2434b604-eef2-4cbd-beb2-ee51eb010a0c",
   "metadata": {},
   "outputs": [],
   "source": [
    "# creating diagonal matrix\n",
    "np.diag([1,2,3,4])"
   ]
  },
  {
   "cell_type": "code",
   "execution_count": null,
   "id": "695c4797-7251-40b8-bd27-f66b06aeff65",
   "metadata": {},
   "outputs": [],
   "source": [
    "# transpose\n",
    "M = np.arange(1, 7).reshape(2, 3)\n",
    "print(M)"
   ]
  },
  {
   "cell_type": "code",
   "execution_count": null,
   "id": "6e7b2223-3a6b-4fd3-bfbf-5204a86f4559",
   "metadata": {},
   "outputs": [],
   "source": [
    "W = np.transpose(M)\n",
    "print(W)"
   ]
  },
  {
   "cell_type": "code",
   "execution_count": null,
   "id": "95a5fb88-6f5c-48fa-826a-e9381c1b1974",
   "metadata": {},
   "outputs": [],
   "source": [
    "# horizontal stacking\n",
    "np.hstack([\n",
    "    np.diag([1,2,3]),\n",
    "    np.array([[2], [2], [2]])\n",
    "])"
   ]
  },
  {
   "cell_type": "code",
   "execution_count": null,
   "id": "ab0cd290-455a-45c7-8011-6717f569304a",
   "metadata": {},
   "outputs": [],
   "source": [
    "# vertical stacking\n",
    "np.vstack([\n",
    "    np.diag([1,2,3]),\n",
    "    np.array([-1, 0, 1])\n",
    "])"
   ]
  },
  {
   "cell_type": "markdown",
   "id": "05149545-ef92-47ff-90f4-53fe64e06ef2",
   "metadata": {},
   "source": [
    "----\n",
    "\n",
    "_**Debugging #1.**_ Fix the following code. Your output should be a 3-by-3 array\n",
    "```python\n",
    "[[0,1,0],\n",
    " [2,3,0],\n",
    " [4,5,0]]\n",
    "```\n",
    "\n",
    "**Note**: There are multiple places to fix, and there are more than one approach"
   ]
  },
  {
   "cell_type": "code",
   "execution_count": null,
   "id": "76af8e67-7c18-4d65-8d84-3c50f7a6ed80",
   "metadata": {},
   "outputs": [],
   "source": [
    "X = np.arange(6).reshape(3,2)\n",
    "Y = np.zeros(3)\n",
    "np.hstack([X, Y])"
   ]
  },
  {
   "cell_type": "markdown",
   "id": "9f283c87-51c4-4f4b-aeb2-97f2540e2ee4",
   "metadata": {
    "jp-MarkdownHeadingCollapsed": true
   },
   "source": [
    "### Indexing"
   ]
  },
  {
   "cell_type": "code",
   "execution_count": null,
   "id": "e90d5db2-460b-45b8-9a68-739a8eb4372e",
   "metadata": {},
   "outputs": [],
   "source": [
    "data = np.arange(30).reshape(5, 6)\n",
    "print(data)"
   ]
  },
  {
   "cell_type": "code",
   "execution_count": null,
   "id": "cd2bd781-b568-4b42-83bd-cd927dc48edd",
   "metadata": {},
   "outputs": [],
   "source": [
    "# Basic indexing\n",
    "X = data[::2, 2:]\n",
    "print(X)"
   ]
  },
  {
   "cell_type": "code",
   "execution_count": null,
   "id": "b2710ff0-ecd2-435b-99bf-0464a24ea8b3",
   "metadata": {},
   "outputs": [],
   "source": [
    "# check the intermediate arrays\n",
    "Z1 = data[::2, :]\n",
    "Z2 = data[:, 2:]\n",
    "\n",
    "print(Z1)\n",
    "print()\n",
    "print(Z2)"
   ]
  },
  {
   "cell_type": "code",
   "execution_count": null,
   "id": "7ff82492-e182-48e5-87e2-4211b911ad8b",
   "metadata": {},
   "outputs": [],
   "source": [
    "# Again we have memory overlap\n",
    "np.may_share_memory(X, data)"
   ]
  },
  {
   "cell_type": "code",
   "execution_count": null,
   "id": "4f28f9b0-972a-4137-91c5-30be7ffaf731",
   "metadata": {},
   "outputs": [],
   "source": [
    "# Advanced indexing in one axis only\n",
    "Y = data[[0, 2, 4], 2:]"
   ]
  },
  {
   "cell_type": "code",
   "execution_count": null,
   "id": "403a902c-033b-4ae3-a470-6a066e017cc2",
   "metadata": {},
   "outputs": [],
   "source": [
    "# Y and X are numerically the same\n",
    "Y == X"
   ]
  },
  {
   "cell_type": "code",
   "execution_count": null,
   "id": "44276c07-a3c4-4678-8457-b26b2d720c18",
   "metadata": {},
   "outputs": [],
   "source": [
    "# Advanced indexing is a copy\n",
    "np.may_share_memory(Y, data)"
   ]
  },
  {
   "cell_type": "code",
   "execution_count": null,
   "id": "e3c292dd-26e9-426a-8e3b-0a24f02f4225",
   "metadata": {},
   "outputs": [],
   "source": [
    "# Advanced indexing in multiple axes\n",
    "# This is usually NOT what you want\n",
    "Y = data[[1, 2, 4], [0, 1, 5]]\n",
    "print(Y)"
   ]
  },
  {
   "cell_type": "code",
   "execution_count": null,
   "id": "ec23452f-8b36-4d8e-ba59-1434113c50b0",
   "metadata": {},
   "outputs": [],
   "source": [
    "# solution: repeated indexing\n",
    "Z = data[[1, 2, 4], :][:, [0, 1, 5]]\n",
    "print(Z)"
   ]
  },
  {
   "cell_type": "markdown",
   "id": "f80f2c9b-a8b1-4c99-ab0f-bd0c28909195",
   "metadata": {
    "jp-MarkdownHeadingCollapsed": true
   },
   "source": [
    "### Array broadcasting"
   ]
  },
  {
   "cell_type": "code",
   "execution_count": null,
   "id": "cb07552d-0bfe-4c16-8bb7-5be4f505c518",
   "metadata": {},
   "outputs": [],
   "source": [
    "# axes of dimension 1 can be broadcasted to any size\n",
    "\n",
    "A = np.full([2, 3, 4], -1)\n",
    "B = np.arange(8).reshape(2,1,4)\n",
    "\n",
    "print(A, \"\\n\\n\", B)"
   ]
  },
  {
   "cell_type": "code",
   "execution_count": null,
   "id": "a49655b4-fdf3-40a3-8534-b890908378cb",
   "metadata": {},
   "outputs": [],
   "source": [
    "A + B"
   ]
  },
  {
   "cell_type": "code",
   "execution_count": null,
   "id": "fa9a1cc0-924d-487e-a9d6-aef314f64805",
   "metadata": {},
   "outputs": [],
   "source": [
    "# lower-dimension array is first expanded in outer dimensions\n",
    "A = np.full([2,3,4], -1)\n",
    "B = np.arange(4)\n",
    "\n",
    "A + B"
   ]
  },
  {
   "cell_type": "code",
   "execution_count": null,
   "id": "0b66894e-d4d4-444b-95f3-0ce2fe2b20b6",
   "metadata": {},
   "outputs": [],
   "source": [
    "# Broadcasting is not smart, it follows rigid rules rather than guessing\n",
    "\n",
    "A = np.full([2,3,4], -1)\n",
    "B = np.arange(3)\n",
    "\n",
    "A + B"
   ]
  },
  {
   "cell_type": "code",
   "execution_count": null,
   "id": "db50271f-bc08-4002-924f-5520c923a3ec",
   "metadata": {},
   "outputs": [],
   "source": [
    "# To expand in other ways, use np.newaxis to explicitly specify new axes\n",
    "A + B[:, np.newaxis]"
   ]
  },
  {
   "cell_type": "code",
   "execution_count": null,
   "id": "2c219711-5919-48d7-9a79-c6dbac23e3f3",
   "metadata": {},
   "outputs": [],
   "source": [
    "# Conversely, use .squeeze() to eliminate axes of dimension 1\n",
    "X = np.arange(6).reshape(2,1,3)\n",
    "print(X)\n",
    "\n",
    "print(\"\\n\")\n",
    "\n",
    "Y = np.squeeze(X)\n",
    "print(Y)\n",
    "\n",
    "np.may_share_memory(X, Y)"
   ]
  },
  {
   "cell_type": "markdown",
   "id": "305d3743-18cd-4f67-a718-c52b9f68173b",
   "metadata": {
    "jp-MarkdownHeadingCollapsed": true
   },
   "source": [
    "### Reduction along axis"
   ]
  },
  {
   "cell_type": "code",
   "execution_count": null,
   "id": "c8cf6af4-5160-4d34-b159-573edd6542c5",
   "metadata": {},
   "outputs": [],
   "source": [
    "A = np.arange(12).reshape(3,4)\n",
    "print(A)"
   ]
  },
  {
   "cell_type": "code",
   "execution_count": null,
   "id": "03d3d8b5-f019-4425-909a-a153382fccdb",
   "metadata": {},
   "outputs": [],
   "source": [
    "# Most reduction function allows you to specify axis to reduce\n",
    "np.max(A, axis=1)"
   ]
  },
  {
   "cell_type": "code",
   "execution_count": null,
   "id": "d09a075c-f4d3-4eaf-95c7-5f8a0f1b1714",
   "metadata": {},
   "outputs": [],
   "source": [
    "np.max(A, axis=0)"
   ]
  },
  {
   "cell_type": "code",
   "execution_count": null,
   "id": "47d963c0-b078-4997-9c49-5632bdbcd831",
   "metadata": {},
   "outputs": [],
   "source": [
    "M = np.arange(24).reshape(2,3,4)\n",
    "print(M)"
   ]
  },
  {
   "cell_type": "code",
   "execution_count": null,
   "id": "9f437320-6023-4f2e-b1e0-5ed4cab5e6c1",
   "metadata": {},
   "outputs": [],
   "source": [
    "# reducing along multiple axes at once\n",
    "np.max(M, (1,2))"
   ]
  },
  {
   "cell_type": "markdown",
   "id": "c5af668c-bb29-4ba7-8c4f-40524104d0dd",
   "metadata": {
    "jp-MarkdownHeadingCollapsed": true
   },
   "source": [
    "### Matrix (and tensor) products"
   ]
  },
  {
   "cell_type": "code",
   "execution_count": null,
   "id": "8a07e91f-c1d5-42c2-a823-9c18750f0712",
   "metadata": {},
   "outputs": [],
   "source": [
    "# dot product\n",
    "u = np.array([2, 3, 4])\n",
    "v = np.array([1, 0, 1])\n",
    "\n",
    "np.dot(u, v).item()"
   ]
  },
  {
   "cell_type": "code",
   "execution_count": null,
   "id": "33ddad43-01d0-4bf5-a25c-29a523289c4b",
   "metadata": {},
   "outputs": [],
   "source": [
    "# Same result using tensordot\n",
    "# NOTE: .item() is used to extract scalar from \"scalar array\"\n",
    "np.tensordot(u, v, axes=1).item()"
   ]
  },
  {
   "cell_type": "code",
   "execution_count": null,
   "id": "ea1f7372-5652-4833-b332-f5c36c3d88b5",
   "metadata": {},
   "outputs": [],
   "source": [
    "M = np.array([\n",
    "    [1, 1, 1],\n",
    "    [2, 2, 2]\n",
    "])\n",
    "\n",
    "print(M)"
   ]
  },
  {
   "cell_type": "code",
   "execution_count": null,
   "id": "4e89b656-a485-42f2-8581-14d2049d57fe",
   "metadata": {},
   "outputs": [],
   "source": [
    "# matrix operating on \"column vector\"\n",
    "\n",
    "v = np.array([1, 0, 1])\n",
    "\n",
    "M @ v"
   ]
  },
  {
   "cell_type": "code",
   "execution_count": null,
   "id": "6ca9e148-527e-4c69-8665-c4db61cd669c",
   "metadata": {},
   "outputs": [],
   "source": [
    "# Same result using tensordot\n",
    "np.tensordot(M, v, axes=1)"
   ]
  },
  {
   "cell_type": "code",
   "execution_count": null,
   "id": "0d8ffca1-4e33-4b8d-954a-3d7f5448de8e",
   "metadata": {},
   "outputs": [],
   "source": [
    "A = np.array([\n",
    "    [-1, 1],\n",
    "    [0, 0],\n",
    "    [-2, 2]\n",
    "])\n",
    "\n",
    "M @ A"
   ]
  },
  {
   "cell_type": "code",
   "execution_count": null,
   "id": "315f6853-98d9-4014-b14b-20e6f719dd37",
   "metadata": {},
   "outputs": [],
   "source": [
    "# Same result using tensordot\n",
    "np.tensordot(M, A, axes=1)"
   ]
  },
  {
   "cell_type": "code",
   "execution_count": null,
   "id": "3b44e40b-4de4-4b5c-827e-3109ed4ea903",
   "metadata": {},
   "outputs": [],
   "source": [
    "# outer product\n",
    "np.outer(u, v)"
   ]
  },
  {
   "cell_type": "code",
   "execution_count": null,
   "id": "b1136df6-19a1-48e1-994c-38991683f579",
   "metadata": {},
   "outputs": [],
   "source": [
    "# Same result using tensordot\n",
    "np.tensordot(u, v, axes=0)"
   ]
  },
  {
   "cell_type": "markdown",
   "id": "69930de5-81b5-4060-9ca9-ffcbab7ef7af",
   "metadata": {
    "jp-MarkdownHeadingCollapsed": true
   },
   "source": [
    "#### Example: reduction to graysacle"
   ]
  },
  {
   "cell_type": "code",
   "execution_count": null,
   "id": "fd9a8ccd-db2b-46ad-b30c-fac62607f523",
   "metadata": {},
   "outputs": [],
   "source": [
    "sm_img = np.array([\n",
    "    [[191,   0,   0],\n",
    "     [  0, 159,   0],\n",
    "     [  0,   0, 127]],\n",
    "\n",
    "    [[191,   0,   0],\n",
    "     [191,   0, 127],\n",
    "     [  0,   0, 127]]\n",
    "])"
   ]
  },
  {
   "cell_type": "code",
   "execution_count": null,
   "id": "b36fd854-3db2-4300-a1e0-fdd0bf48da52",
   "metadata": {},
   "outputs": [],
   "source": [
    "plt.imshow(sm_img)\n",
    "plt.show()"
   ]
  },
  {
   "cell_type": "code",
   "execution_count": null,
   "id": "18858f92-c932-4a19-a89f-5e726c2cf9f2",
   "metadata": {},
   "outputs": [],
   "source": [
    "# RGB conversion: 0.299 * Red + 0.587 * Green + 0.114 * Blue\n",
    "\n",
    "gray_projector = [0.299, 0.587, 0.114]\n",
    "gray_img = np.tensordot(sm_img, gray_projector, axes=1).squeeze()\n",
    "\n",
    "print(gray_img)"
   ]
  },
  {
   "cell_type": "code",
   "execution_count": null,
   "id": "69a06dab-3b48-485a-9b24-6f9a47a41ce6",
   "metadata": {},
   "outputs": [],
   "source": [
    "plt.imshow(gray_img, vmin=0, vmax=127, cmap=\"grey\")\n",
    "plt.show()"
   ]
  },
  {
   "cell_type": "markdown",
   "id": "d9cbc5a4-1a03-4fbe-848f-147e264e6310",
   "metadata": {
    "jp-MarkdownHeadingCollapsed": true
   },
   "source": [
    "### Exercise #3: analyzing sea glider data"
   ]
  },
  {
   "cell_type": "markdown",
   "id": "76778769-0a80-4ae8-b240-a5afaaec22ff",
   "metadata": {},
   "source": [
    "A sea glider collects information of temperature (°C), salinity (psu), and depth (m) as it moves through the ocean. The information is presented as a 2-axes array, with axis-0 being time (one data point per minute) and axis-1 being kind of data collected (in the order of [temperature, salinity, depth]).\n",
    "\n",
    "1. Calculate the mean temperature, salinity and depth over the duration of the 30-minute collection\n",
    "1. Find the temperature and salinity at the maximum depth that the sea glider reaches"
   ]
  },
  {
   "cell_type": "code",
   "execution_count": null,
   "id": "0d4d0c73-f081-4080-a2b9-e4f0e1876ec7",
   "metadata": {},
   "outputs": [],
   "source": [
    "# load the (synthesized) sea glider data\n",
    "data = magic.sea_glider.copy()"
   ]
  },
  {
   "cell_type": "code",
   "execution_count": null,
   "id": "a66f59e6-a257-42a9-9f8a-f5ac9c09fb3c",
   "metadata": {},
   "outputs": [],
   "source": [
    "# part 1"
   ]
  },
  {
   "cell_type": "code",
   "execution_count": null,
   "id": "533f1018-511c-486b-9f38-cc4a15402fc4",
   "metadata": {},
   "outputs": [],
   "source": [
    "# part 2"
   ]
  },
  {
   "cell_type": "markdown",
   "id": "88b1807c-cef0-4ef8-8b96-e38f887564d6",
   "metadata": {},
   "source": [
    "## Linear algebra"
   ]
  },
  {
   "cell_type": "markdown",
   "id": "8e6b1595-c3fe-4179-90e7-cdf2cc28f801",
   "metadata": {},
   "source": [
    "### System of equations"
   ]
  },
  {
   "cell_type": "markdown",
   "id": "06b11ed1-abee-4bd4-88d6-1c20e96ac08b",
   "metadata": {},
   "source": [
    "Consider $x$ CO<sub>2</sub> + $y$ H<sub>2</sub>O → $z$ O<sub>2</sub> + $w$ C<sub>6</sub>H<sub>12</sub>O<sub>6</sub>. Fixing $w = 1$, we have the system of equation `M @ X = b`, where `X` = [$x$, $y$, $z$] and"
   ]
  },
  {
   "cell_type": "code",
   "execution_count": null,
   "id": "65500651-167f-4eeb-b104-64a7b9e013f2",
   "metadata": {},
   "outputs": [],
   "source": [
    "M = np.array([[1,0,0], [0,2,0], [2,1,-2]])\n",
    "b = np.array([6, 12, 6])"
   ]
  },
  {
   "cell_type": "code",
   "execution_count": null,
   "id": "906d5a46-41b8-4ffb-8f30-58ec415f8db5",
   "metadata": {},
   "outputs": [],
   "source": [
    "# strategy #1: invert matrix and multiply (less efficient)\n",
    "nla.inv(M) @ b"
   ]
  },
  {
   "cell_type": "code",
   "execution_count": null,
   "id": "c100bdfb-4d64-4557-ad81-845a7397b212",
   "metadata": {},
   "outputs": [],
   "source": [
    "# strategy #2: use solve\n",
    "nla.solve(M, b)"
   ]
  },
  {
   "cell_type": "markdown",
   "id": "9cec0ab0-7921-4a9f-bb47-39527132dbe2",
   "metadata": {},
   "source": [
    "### Eigenvalues and eigenvector"
   ]
  },
  {
   "cell_type": "code",
   "execution_count": null,
   "id": "0a9033b8-f819-40fa-8390-43cf73c4f549",
   "metadata": {},
   "outputs": [],
   "source": [
    "# eigenvalue can be complex even for real matrices\n",
    "A = np.array([[0.866, 0.5],[-0.5, 0.866]])\n",
    "\n",
    "vals, mat = nla.eig(A)\n",
    "\n",
    "print(vals)\n",
    "print()\n",
    "print(mat)"
   ]
  },
  {
   "cell_type": "code",
   "execution_count": null,
   "id": "e9bf270d-3c2d-49ad-a61d-39dfab633717",
   "metadata": {},
   "outputs": [],
   "source": [
    "# setup the mass and spring system\n",
    "\n",
    "m = 0.200\n",
    "k1 = 800\n",
    "k2 = 400\n",
    "k3 = 400\n",
    "k4 = 800\n",
    "\n",
    "K = np.array([\n",
    "    [k1 + k2, -k2,   0    ],\n",
    "    [-k2, k2 + k3, -k3    ],\n",
    "    [  0,     -k3, k3 + k4]\n",
    "])\n",
    "\n",
    "print(K)"
   ]
  },
  {
   "cell_type": "code",
   "execution_count": null,
   "id": "5476db15-61fd-41b9-82a3-518721a02e5a",
   "metadata": {},
   "outputs": [],
   "source": [
    "# find the resonant frequency\n",
    "\n",
    "f = 2 * np.pi * np.sqrt(nla.eigvalsh(K) / m)\n",
    "print(f)"
   ]
  },
  {
   "cell_type": "code",
   "execution_count": null,
   "id": "4f3e544d-6b7e-4f75-b19d-f37b833bdef6",
   "metadata": {},
   "outputs": [],
   "source": [
    "# solve for the whole eigensystem (values + vectors)\n",
    "vals, mat = nla.eigh(K)\n",
    "\n",
    "print(vals)\n",
    "print()\n",
    "print(mat)"
   ]
  },
  {
   "cell_type": "code",
   "execution_count": null,
   "id": "4bc42673-0a01-44a4-b8c9-6ca450c2180c",
   "metadata": {},
   "outputs": [],
   "source": [
    "# check the identity V D V^{-1} = K\n",
    "np.round(mat @ np.diag(vals) @ nla.inv(mat), 0)"
   ]
  },
  {
   "cell_type": "markdown",
   "id": "50b0c795-3c82-4329-ae6b-0983287d0c7f",
   "metadata": {},
   "source": [
    "### Defective eigensystem"
   ]
  },
  {
   "cell_type": "code",
   "execution_count": null,
   "id": "e0741116-a032-4dda-a3fa-e13e6b19e16c",
   "metadata": {},
   "outputs": [],
   "source": [
    "M = np.array([[1, 1], [0, 1]])"
   ]
  },
  {
   "cell_type": "code",
   "execution_count": null,
   "id": "539e6f25-03bc-4a2b-9a1d-ffc7f70af031",
   "metadata": {},
   "outputs": [],
   "source": [
    "# there is only one linearly independent eigenvector\n",
    "\n",
    "vals, mat = nla.eig(M)\n",
    "\n",
    "print(vals)\n",
    "print()\n",
    "print(mat.round(5))"
   ]
  },
  {
   "cell_type": "markdown",
   "id": "7e8468d2-68cc-484c-a7ac-de0b3bdb6141",
   "metadata": {},
   "source": [
    "# Singular value decomposition"
   ]
  },
  {
   "cell_type": "code",
   "execution_count": null,
   "id": "5f91c9ea-955f-4dbe-8d41-129ed94886a3",
   "metadata": {},
   "outputs": [],
   "source": [
    "# load a grayscale image\n",
    "dotdot = magic.dotdot.copy()"
   ]
  },
  {
   "cell_type": "code",
   "execution_count": null,
   "id": "08213236-f2fa-4dc1-9a7d-0d7b80ffaae8",
   "metadata": {},
   "outputs": [],
   "source": [
    "plt.imshow(dotdot, cmap=\"gray\")\n",
    "plt.show()"
   ]
  },
  {
   "cell_type": "code",
   "execution_count": null,
   "id": "d80c7dc1-16cd-45d6-bcd5-5ac3c6e32f2f",
   "metadata": {},
   "outputs": [],
   "source": [
    "# the image is just a 2-axes numpy array\n",
    "dotdot"
   ]
  },
  {
   "cell_type": "code",
   "execution_count": null,
   "id": "20496eb1-3ea7-40ab-aa2d-b6b8ac966a18",
   "metadata": {},
   "outputs": [],
   "source": [
    "U, S, Vh = nla.svd(dotdot)"
   ]
  },
  {
   "cell_type": "code",
   "execution_count": null,
   "id": "fb81e194-cd70-4684-b166-3074ff2a5f81",
   "metadata": {},
   "outputs": [],
   "source": [
    "plt.bar(np.arange(1, 151), S)\n",
    "plt.show()"
   ]
  },
  {
   "cell_type": "code",
   "execution_count": null,
   "id": "7f621283-4b5e-47c5-b2c8-155bbae00162",
   "metadata": {},
   "outputs": [],
   "source": [
    "dotdot.size"
   ]
  },
  {
   "cell_type": "code",
   "execution_count": null,
   "id": "bae3bed6-0dcc-487b-a80d-b16153dd1d4a",
   "metadata": {},
   "outputs": [],
   "source": [
    "n = 40\n",
    "approx = U[:, :n] @ np.diag(S[:n]) @ Vh[:n, :] "
   ]
  },
  {
   "cell_type": "code",
   "execution_count": null,
   "id": "abf5d0ef-9e89-4b81-a81c-a337e736e3a5",
   "metadata": {},
   "outputs": [],
   "source": [
    "U[:, :n].size + S[:n].size + Vh[:n, :].size"
   ]
  },
  {
   "cell_type": "code",
   "execution_count": null,
   "id": "6d238458-1477-439a-bda3-ced95fe64e03",
   "metadata": {},
   "outputs": [],
   "source": [
    "plt.imshow(approx, cmap=\"gray\")\n",
    "plt.show()"
   ]
  },
  {
   "cell_type": "markdown",
   "id": "f85e316c-39f0-4ad7-9865-254bce30daef",
   "metadata": {},
   "source": [
    "### Exercise #4: markov chain"
   ]
  },
  {
   "cell_type": "markdown",
   "id": "0115d1d4-1da9-4253-8b70-545b632bc4a2",
   "metadata": {},
   "source": [
    "In an experiment, you gather a collection of flowers and divide them into numerous replicates, each consists of two flowers (each replicate is isolated from each other).\n",
    "\n",
    "For each replicate, you produce the next generation by cross-pollinating the two flowers, and randomly select two flowers from the offsprings produced. You then repeat to the next generation, etc.\n",
    "\n",
    "We are looking at a particular locus that has 2 alleles A and a, and there’s no selective pressure between them.\n",
    "\n",
    "As it turns out, the “evolution” of the “population” of replicates can be described by a transition matrix `M` (below), so that if `G1` is a column vector describing the initial population, `G2 = M @ G1` would describe the population of the second generation, and we have `G3 = M @ G2`, `G4 = M @ G3`, and so on. \n",
    "\n",
    "`M` in table form:\n",
    "|            | AA, AA | AA, Aa | AA, aa | Aa, Aa | Aa, aa | aa, aa |\n",
    "|------------|--------|--------|--------|--------|--------|--------|\n",
    "| **AA, AA** |  1     |  0.25  |   0    | 0.0625 |   0    |    0   |\n",
    "| **AA, Aa** |  0     |  0.5   |   0    | 0.25   |   0    |    0   |\n",
    "| **AA, aa** |  0     |  0     |   0    | 0.125  |   0    |    0   |\n",
    "| **Aa, Aa** |  0     |  0.25  |   1    | 0.25   |  0.25  |    0   |\n",
    "| **Aa, aa** |  0     |  0     |   0    | 0.25   |  0.5   |    0   |\n",
    "| **aa, aa** |  0     |  0     |   0    | 0.0625 |  0.25  |    1   |\n",
    "\n",
    "\n",
    "1. Suppose the first generation is given by: \n",
    "    `G1 = [0.25, 0.25, 0.25, 0.0625, 0.125, 0.0625]`\n",
    "\n",
    "    Compute the first 20 generations of the “population.” Return the result as a shape (20, 6) 2-axes ndarray called `all_gen`\n",
    "\n",
    "    Plot the result using the starter code provided (it should just “work” if `all_gen` is up to spec)\n",
    "\n",
    "2. Find the eigenvalues and eigenvectors of the transition matrix `M`. You should find 2 (and only 2) eigenvalues close to 1. Check the corresponding eigenvector and compare to the stable “population”. What do you notice?\n",
    "\n",
    "3. Solve for the system of equations `V @ X = G1` for `X`, where `V` is the eigenvector matrix from (2). Look at the coefficients and again compare the stable “population”. What do you notice?"
   ]
  },
  {
   "cell_type": "code",
   "execution_count": null,
   "id": "9a642e9d-3665-4c60-be17-0ca201562d3d",
   "metadata": {},
   "outputs": [],
   "source": [
    "# definition of the transition matrix M\n",
    "\n",
    "M = np.array([\n",
    "    [1, 0.25, 0, 0.0625,    0, 0],\n",
    "    [0,  0.5, 0,   0.25,    0, 0],\n",
    "    [0,    0, 0,  0.125,    0, 0],\n",
    "    [0, 0.25, 1,   0.25, 0.25, 0],\n",
    "    [0,    0, 0,   0.25,  0.5, 0],\n",
    "    [0,    0, 0, 0.0625, 0.25, 1]\n",
    "])"
   ]
  },
  {
   "cell_type": "code",
   "execution_count": null,
   "id": "32d113e8-22e0-465b-ae85-e511b0ac7b30",
   "metadata": {},
   "outputs": [],
   "source": [
    "# the initial \"population\"\n",
    "G1 = np.array([0.25, 0.25, 0.25, 0.0625, 0.125, 0.0625])"
   ]
  },
  {
   "cell_type": "code",
   "execution_count": null,
   "id": "0710cd66-f911-4fcb-938a-23d2c844914a",
   "metadata": {},
   "outputs": [],
   "source": [
    "# Part 1: computing the first 30 generations"
   ]
  },
  {
   "cell_type": "code",
   "execution_count": null,
   "id": "25527920-f053-4aac-9f5a-72fac4d4d851",
   "metadata": {},
   "outputs": [],
   "source": [
    "# starter code for plotting\n",
    "\n",
    "fig = plt.figure()\n",
    "ax = fig.add_subplot()\n",
    "\n",
    "ax.plot(all_gens[:, 0], ls=\"-\", label=\"AA, AA\")\n",
    "ax.plot(all_gens[:, 1], ls=\"-.\", label=\"AA, Aa\")\n",
    "ax.plot(all_gens[:, 2], ls=\":\", label=\"AA, aa\")\n",
    "ax.plot(all_gens[:, 3], ls=\"--\", label=\"Aa, Aa\")\n",
    "ax.plot(all_gens[:, 4], ls=\"-.\", label=\"Aa, aa\")\n",
    "ax.plot(all_gens[:, 5], ls=\"-\", label=\"aa, aa\")\n",
    "\n",
    "ax.legend()\n",
    "\n",
    "plt.show()"
   ]
  },
  {
   "cell_type": "code",
   "execution_count": null,
   "id": "610da039-42ab-446e-8e1d-6b29bb95a029",
   "metadata": {},
   "outputs": [],
   "source": [
    "# Part 2: solving eigensystem of M"
   ]
  },
  {
   "cell_type": "code",
   "execution_count": null,
   "id": "af2a66ee-1cdb-4cd9-873e-229a794266b3",
   "metadata": {},
   "outputs": [],
   "source": [
    "# Part 3: solving equation V @ X = G1"
   ]
  },
  {
   "cell_type": "markdown",
   "id": "6e692627-8dec-44ab-a20f-f27de568713e",
   "metadata": {},
   "source": [
    "## Plotting matrix data"
   ]
  },
  {
   "cell_type": "markdown",
   "id": "fd586426-30ac-4ed8-b4ae-0ea45d8931a2",
   "metadata": {},
   "source": [
    "### pcolormesh plot"
   ]
  },
  {
   "cell_type": "code",
   "execution_count": null,
   "id": "4c1543c7-b8df-4571-b887-6d5e807d3908",
   "metadata": {},
   "outputs": [],
   "source": [
    "# data we'll use throughout\n",
    "\n",
    "X = np.linspace(-2, 2, 201)\n",
    "Y = np.linspace(-1, 1, 101)\n",
    "\n",
    "def f(x,y):\n",
    "\treturn np.exp(-x**2 - 0.5 * y**2)\n",
    "\n",
    "X_grid, Y_grid = np.meshgrid(X, Y)\n",
    "Z = f(X_grid, Y_grid)\n",
    "\n",
    "# check the shape of X, Y, and Z\n",
    "print(X.shape, Y.shape, Z.shape)"
   ]
  },
  {
   "cell_type": "code",
   "execution_count": null,
   "id": "dcff1ad3-f1aa-4809-a878-b06f66b44571",
   "metadata": {},
   "outputs": [],
   "source": [
    "# basic example of pcolormesh plot\n",
    "\n",
    "fig = plt.figure()\n",
    "ax = fig.add_subplot()\n",
    "\n",
    "ax.pcolormesh(X, Y, Z)\n",
    "\n",
    "plt.show()"
   ]
  },
  {
   "cell_type": "code",
   "execution_count": null,
   "id": "ededbd29-43bf-4040-93d9-c075a2ba04fe",
   "metadata": {},
   "outputs": [],
   "source": [
    "# pcolormesh plot\n",
    "# adding colorbar\n",
    "\n",
    "fig = plt.figure()\n",
    "ax = fig.add_subplot()\n",
    "\n",
    "#### << START NEW CONTENT ####\n",
    "mesh = ax.pcolormesh(X, Y, Z)\n",
    "cb = fig.colorbar(mesh, aspect=15)\n",
    "#### >> END NEW CONTENT ####\n",
    "\n",
    "plt.show()"
   ]
  },
  {
   "cell_type": "code",
   "execution_count": null,
   "id": "3a480e85-c3b8-495e-98c4-0cea6b4fdba3",
   "metadata": {},
   "outputs": [],
   "source": [
    "# pcolormesh plot\n",
    "# specifying color ticks and color label\n",
    "\n",
    "fig = plt.figure()\n",
    "ax = fig.add_subplot()\n",
    "\n",
    "mesh = ax.pcolormesh(X, Y, Z)\n",
    "cb = fig.colorbar(mesh, aspect=15)\n",
    "\n",
    "#### << START NEW CONTENT ####\n",
    "cb.set_label(\"intensity\")\n",
    "cb.set_ticks(np.arange(0, 1.1, 0.2))\n",
    "#### >> END NEW CONTENT ####\n",
    "\n",
    "plt.show()"
   ]
  },
  {
   "cell_type": "code",
   "execution_count": null,
   "id": "b3bff849-254c-4ee8-b01b-c5a330b74077",
   "metadata": {},
   "outputs": [],
   "source": [
    "# pcolormesh plot\n",
    "# specifying min and max color values\n",
    "\n",
    "fig = plt.figure()\n",
    "ax = fig.add_subplot()\n",
    "\n",
    "#### << START NEW CONTENT ####\n",
    "mesh = ax.pcolormesh(X, Y, Z, vmin=0, vmax=1)\n",
    "#### >> END NEW CONTENT ####\n",
    "\n",
    "cb = fig.colorbar(mesh, aspect=15)\n",
    "cb.set_label(\"intensity\")\n",
    "cb.set_ticks(np.arange(0, 1.1, 0.2))\n",
    "\n",
    "\n",
    "plt.show()"
   ]
  },
  {
   "cell_type": "code",
   "execution_count": null,
   "id": "05bfc546-7eb2-45b6-91b9-34c2305c324f",
   "metadata": {},
   "outputs": [],
   "source": [
    "# pcolormesh plot\n",
    "# using logarithmic colormap scale\n",
    "\n",
    "fig = plt.figure()\n",
    "ax = fig.add_subplot()\n",
    "\n",
    "#### << START NEW CONTENT ####\n",
    "mesh = ax.pcolormesh(X, Y, Z, norm=mpl.colors.LogNorm(1e-3, 1))\n",
    "#### >> END NEW CONTENT ####\n",
    "\n",
    "cb = fig.colorbar(mesh, aspect=15)\n",
    "cb.set_label(\"intensity\")\n",
    "\n",
    "plt.show()"
   ]
  },
  {
   "cell_type": "code",
   "execution_count": null,
   "id": "c09d2bcb-83cb-450b-9a14-5ac8fab2b8f7",
   "metadata": {},
   "outputs": [],
   "source": [
    "# pcolormesh plot\n",
    "# changing the color map used\n",
    "\n",
    "fig = plt.figure()\n",
    "ax = fig.add_subplot()\n",
    "\n",
    "#### << START NEW CONTENT ####\n",
    "mesh = ax.pcolormesh(X, Y, Z, cmap=\"nipy_spectral\")\n",
    "#### >> END NEW CONTENT ####\n",
    "\n",
    "cb = fig.colorbar(mesh, aspect=15)\n",
    "cb.set_label(\"intensity\")\n",
    "\n",
    "plt.show()"
   ]
  },
  {
   "cell_type": "markdown",
   "id": "192f5304-6fdf-4242-850f-5cc039b3f17c",
   "metadata": {},
   "source": [
    "### imshow plot"
   ]
  },
  {
   "cell_type": "code",
   "execution_count": null,
   "id": "b6d6ca4a-0ad0-4873-b7b6-061e601757a4",
   "metadata": {},
   "outputs": [],
   "source": [
    "# Copy the same data as before\n",
    "\n",
    "X = np.linspace(-2, 2, 201)\n",
    "Y = np.linspace(-1, 1, 101)\n",
    "\n",
    "def f(x,y):\n",
    "\treturn np.exp(-x**2 - 0.5 * y**2)\n",
    "\n",
    "X_grid, Y_grid = np.meshgrid(X, Y)\n",
    "Z = f(X_grid, Y_grid)"
   ]
  },
  {
   "cell_type": "code",
   "execution_count": null,
   "id": "74670e35-a2ad-40e6-ad92-f0dd0a14bf1a",
   "metadata": {},
   "outputs": [],
   "source": [
    "# using imshow() instead of pcolormesh()\n",
    "\n",
    "fig = plt.figure()\n",
    "ax = fig.add_subplot()\n",
    "\n",
    "#### << START NEW CONTENT ####\n",
    "mesh = ax.imshow(Z, extent = (X[0], X[-1], Y[0], Y[-1]))\n",
    "\n",
    "# by default the aspect ratio for imshow is 'equal'\n",
    "ax.set_aspect(\"auto\")\n",
    "#### >> END NEW CONTENT ####\n",
    "\n",
    "cb = fig.colorbar(mesh, aspect=15)\n",
    "cb.set_label(\"intensity\")\n",
    "\n",
    "plt.show()"
   ]
  },
  {
   "cell_type": "markdown",
   "id": "6e1be772-4f55-4161-a0c7-772620c6a4f5",
   "metadata": {},
   "source": [
    "### contour plot"
   ]
  },
  {
   "cell_type": "code",
   "execution_count": null,
   "id": "623308fe-6231-45d8-b7d5-ba74e4b0a3c4",
   "metadata": {},
   "outputs": [],
   "source": [
    "# Copy the same data as before\n",
    "\n",
    "X = np.linspace(-2, 2, 201)\n",
    "Y = np.linspace(-1, 1, 101)\n",
    "\n",
    "def f(x,y):\n",
    "\treturn np.exp(-x**2 - 0.5 * y**2)\n",
    "\n",
    "X_grid, Y_grid = np.meshgrid(X, Y)\n",
    "Z = f(X_grid, Y_grid)"
   ]
  },
  {
   "cell_type": "code",
   "execution_count": null,
   "id": "e5b187dc-b557-4e8e-b527-997a20630ea0",
   "metadata": {},
   "outputs": [],
   "source": [
    "# using contour instead of pcolormesh\n",
    "\n",
    "fig = plt.figure()\n",
    "ax = fig.add_subplot()\n",
    "\n",
    "#### << START NEW CONTENT ####\n",
    "mesh = ax.contour(X, Y, Z)\n",
    "#### >> END NEW CONTENT ####\n",
    "\n",
    "cb = fig.colorbar(mesh, aspect=15)\n",
    "cb.set_label(\"intensity\")\n",
    "\n",
    "plt.show()"
   ]
  },
  {
   "cell_type": "code",
   "execution_count": null,
   "id": "74576509-50fa-4210-bb62-b6d605ab6994",
   "metadata": {},
   "outputs": [],
   "source": [
    "# write out contour value instead of relying on colorbar\n",
    "\n",
    "fig = plt.figure()\n",
    "ax = fig.add_subplot()\n",
    "\n",
    "#### << START NEW CONTENT ####\n",
    "cp = ax.contour(X, Y, Z)\n",
    "#### >> END NEW CONTENT ####\n",
    "\n",
    "cl = ax.clabel(cp, levels=cp.levels, fontsize=10)\n",
    "\n",
    "plt.show()"
   ]
  },
  {
   "cell_type": "code",
   "execution_count": null,
   "id": "156f97cf-07fb-49c3-ac67-fea493d12d76",
   "metadata": {},
   "outputs": [],
   "source": [
    "# changing colormap and line style\n",
    "\n",
    "fig = plt.figure()\n",
    "ax = fig.add_subplot()\n",
    "\n",
    "#### << START NEW CONTENT ####\n",
    "cp = ax.contour(X, Y, Z, linestyles=\":\", linewidths=3, cmap=\"plasma\")\n",
    "#### >> END NEW CONTENT ####\n",
    "\n",
    "cl = ax.clabel(cp, levels=cp.levels, fontsize=10)\n",
    "\n",
    "plt.show()"
   ]
  },
  {
   "cell_type": "code",
   "execution_count": null,
   "id": "cdc8a651-c340-465e-9fa2-2375d66f74d4",
   "metadata": {},
   "outputs": [],
   "source": [
    "# using multiple line styles\n",
    "\n",
    "fig = plt.figure()\n",
    "ax = fig.add_subplot()\n",
    "\n",
    "#### << START NEW CONTENT ####\n",
    "cp = ax.contour(X, Y, Z, linestyles=[\":\", \"-.\"], linewidths=3, cmap=\"plasma\")\n",
    "#### >> END NEW CONTENT ####\n",
    "\n",
    "cl = ax.clabel(cp, levels=cp.levels, fontsize=10)\n",
    "\n",
    "plt.show()"
   ]
  },
  {
   "cell_type": "markdown",
   "id": "518f26e0-a355-4576-9ce4-32412c23ddaf",
   "metadata": {},
   "source": [
    "### contourf plot"
   ]
  },
  {
   "cell_type": "code",
   "execution_count": null,
   "id": "6710efbf-d336-4ae6-8ea6-014727197c81",
   "metadata": {},
   "outputs": [],
   "source": [
    "# Copy the same data as before\n",
    "\n",
    "X = np.linspace(-2, 2, 201)\n",
    "Y = np.linspace(-1, 1, 101)\n",
    "\n",
    "def f(x,y):\n",
    "\treturn np.exp(-x**2 - 0.5 * y**2)\n",
    "\n",
    "X_grid, Y_grid = np.meshgrid(X, Y)\n",
    "Z = f(X_grid, Y_grid)"
   ]
  },
  {
   "cell_type": "code",
   "execution_count": null,
   "id": "034e2b44-1759-48e8-91c7-70a3a3dbcaa0",
   "metadata": {},
   "outputs": [],
   "source": [
    "# using contourf instead of pcolormesh\n",
    "\n",
    "fig = plt.figure()\n",
    "ax = fig.add_subplot()\n",
    "\n",
    "#### << START NEW CONTENT ####\n",
    "mesh = ax.contourf(X, Y, Z)\n",
    "#### >> END NEW CONTENT ####\n",
    "\n",
    "cb = fig.colorbar(mesh, aspect=15)\n",
    "cb.set_label(\"intensity\")\n",
    "\n",
    "plt.show()"
   ]
  },
  {
   "cell_type": "markdown",
   "id": "ee1e7550-c864-4598-a4e3-f66bec198a07",
   "metadata": {},
   "source": [
    "### Execise #5: pcolormesh and contour plot"
   ]
  },
  {
   "cell_type": "markdown",
   "id": "077f3a2c-fce3-4c8d-905c-887c3269582f",
   "metadata": {},
   "source": [
    "We will visualize oceanographic data originated from the [Operational Mercator Ocean biogeochemical global ocean analysis and forecast system](https://data.marine.copernicus.eu/product/GLOBAL_ANALYSISFORECAST_BGC_001_028/description). The data is contained in the following variables:\n",
    "+ `Mercator_chl`: chlorophyll concentration (in mg&middot;m<sup>-3</sup>) as function of latitude and depth\n",
    "+ `Mercator_no3`: nitrate concentration (in mmol&middot;m<sup>-3</sup>) as function of latitude and depth\n",
    "+ `Mercator_lat`: latitude, in °N\n",
    "+ `Mercator_depth`: depth below sea level, in m\n",
    "\n",
    "The data is an average over June 2024 and over the longitudinal range of 150°W to 130°W"
   ]
  },
  {
   "cell_type": "markdown",
   "id": "793b5412-d430-4d51-ab53-09dcb2819a81",
   "metadata": {},
   "source": [
    "Your task is to create a pcolormesh plot of chlorophyll concentration overlay with contour plot of NO<sub>3</sub> concentration. Your horizontal axis should be latitude and your vertical axis should be depth, where the latter follows the usual oceanographic convention that depth increases downwards. Make reasonable choice about color map, fonts, axes label, etc."
   ]
  },
  {
   "cell_type": "code",
   "execution_count": null,
   "id": "a57d1333-f6c2-407d-81e4-81715d1d41f9",
   "metadata": {},
   "outputs": [],
   "source": [
    "lat = magic.Mercator_lat.copy()\n",
    "depth = magic.Mercator_depth.copy()\n",
    "chl = magic.Mercator_chl.copy()\n",
    "no3 = magic.Mercator_no3.copy()"
   ]
  },
  {
   "cell_type": "code",
   "execution_count": null,
   "id": "10ae679b-1532-4290-8b76-64542a891471",
   "metadata": {},
   "outputs": [],
   "source": [
    "# Your plotting code here"
   ]
  }
 ],
 "metadata": {
  "kernelspec": {
   "display_name": "Python 3 (ipykernel)",
   "language": "python",
   "name": "python3"
  },
  "language_info": {
   "codemirror_mode": {
    "name": "ipython",
    "version": 3
   },
   "file_extension": ".py",
   "mimetype": "text/x-python",
   "name": "python",
   "nbconvert_exporter": "python",
   "pygments_lexer": "ipython3",
   "version": "3.12.8"
  }
 },
 "nbformat": 4,
 "nbformat_minor": 5
}
